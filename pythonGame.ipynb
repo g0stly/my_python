{
 "cells": [
  {
   "cell_type": "code",
   "execution_count": null,
   "metadata": {},
   "outputs": [],
   "source": [
    "#  выполнили Зотов и Ерофеевский\n",
    "\n",
    "\n",
    "import random, math\n",
    "\n",
    "class Hero:\n",
    "    def __init__(self, new_name='Безымянный'):\n",
    "        self.name = new_name\n",
    "        self.x = random.randint(-100, 100)\n",
    "        self.y = random.randint(-100, 100)\n",
    "        self.health = 100\n",
    "        self.speed = 1\n",
    "        self.damage = 5\n",
    "        self.state = 'walking'\n",
    "        print(f'Игрок под ником \"{self.name}\" вошел в игру.\\nОн находится в клетке с координатами ({self.x}, {self.y}).')\n",
    "    \n",
    "    \n",
    "    def move(self, dest_x, dest_y):\n",
    "        \n",
    "        if self.x == dest_x and self.y == dest_y:  \n",
    "            print(f'Игрок \"{self.name}\" уже давно находится в этой клетке.')\n",
    "        \n",
    "        else:\n",
    "            print(f'Игрок \"{self.name}\" добежал до места назначения за', \n",
    "                  round(abs(dest_x - self.x) + abs(dest_y - self.y)/self.speed), 'минут.')\n",
    "            self.x = dest_x\n",
    "            self.y = dest_y\n",
    "        if [self.x, self.y] in items:\n",
    "            print('В этой ячейке есть бонус!')\n",
    "            \n",
    "    \n",
    "    def attack(self, victim):\n",
    "        \n",
    "        if abs(self.x - victim.x + self.y - victim.y) <= 1:\n",
    "            \n",
    "            if self.state == 'walking' and victim.state == 'flying':\n",
    "                victim.health -= self.damage*random.randint(0, 1)\n",
    "            \n",
    "            else:\n",
    "                victim.health -= self.damage\n",
    "            \n",
    "            if victim.health <= 0: \n",
    "                print(f'Игрок \"{self.name}\" убил игрока \"{victim.name}\".\\nПокойся с миром.')\n",
    "            \n",
    "            else: \n",
    "                print(f'Игрок \"{victim.name}\" атакован.\\nЕго здоровье:', victim.health )\n",
    "        \n",
    "        else:\n",
    "            print('Атака невозможна. Подойдите ближе.')\n",
    "\n",
    "    \n",
    "    def pick_up(self):\n",
    "        \n",
    "        if [self.x, self.y] in items:\n",
    "            buff = random.choice(['Зелье скорости', 'Яд', 'Зелье здоровья'])\n",
    "            \n",
    "            if buff == 'Зелье скорости':\n",
    "                self.speed *= 2\n",
    "                print(f'Скорость игрока \"{self.name}\" увеличилась в 2 раза.')\n",
    "            \n",
    "            elif buff == 'Яд':\n",
    "                self.health -= 50\n",
    "                \n",
    "                if self.health <= 0: \n",
    "                    print(f'Игрок \"{self.name}\" умер от яда.\\nПокойся с миром.')\n",
    "                else:\n",
    "                    print(f'Игрок \"{self.name}\" отравился.\\nЕго здоровье: {self.health} единиц.')\n",
    "            \n",
    "            else:\n",
    "                self.health = 100  \n",
    "                print(f'Здоровье игрока \"{self.name}\" восстановлено до 100 единиц.')\n",
    "                \n",
    "            items.remove([self.x, self.y])\n",
    "        \n",
    "        else:\n",
    "            print('Подбирать в этой клетке нечего') \n",
    "    \n",
    "\n",
    "    def nearest_bonus(self):\n",
    "        try:\n",
    "            item = min(items, key = lambda x: distance(x, [self.x, self.y]))\n",
    "            print(f'Ближайший к игроку \"{self.name}\" бонус находится в клетке {item[0], item[1]}.')\n",
    "        except:\n",
    "            print('Все бонусы подобраны.')\n",
    "\n",
    "\n",
    "class Flying_Hero(Hero):\n",
    "    def fly_up(self):\n",
    "        if self.state == 'walking':\n",
    "            self.state = 'flying'\n",
    "            self.speed += 4\n",
    "            print(f'Игрок под ником \"{self.name}\" взлетел.')\n",
    "        \n",
    "        else:\n",
    "            print(f'\"{self.name}\" уже в воздухе!')\n",
    "\n",
    "    def fly_down(self):\n",
    "        if self.state == 'flying':\n",
    "            self.state = 'walking'\n",
    "            self.speed -= 4\n",
    "            print(f'Игрок под ником \"{self.name}\" спустился на землю.')\n",
    "        \n",
    "        else:\n",
    "            print(f'\"{self.name}\" уже на земле!')\n",
    "            \n",
    "\n",
    "def spawn_items():\n",
    "    amount = random.randint(1, 5)\n",
    "    coords = [[random.randint(-15, 15), random.randint(-15, 15)] for i in range(amount)]\n",
    "    return coords\n",
    "\n",
    "\n",
    "def distance(a, b):\n",
    "    return abs(a[0] - b[0]) + abs(a[1]- b[1])\n",
    "                      \n",
    "            \n",
    "if __name__ == '__main__':\n",
    "    items = spawn_items()\n",
    "    "
   ]
  },
  {
   "cell_type": "code",
   "execution_count": 116,
   "metadata": {},
   "outputs": [
    {
     "name": "stdout",
     "output_type": "stream",
     "text": [
      "Игрок под ником \"Саша\" вошел в игру.\n",
      "Он находится в клетке с координатами (89, 10).\n",
      "Игрок под ником \"Аркаша\" вошел в игру.\n",
      "Он находится в клетке с координатами (-11, 50).\n"
     ]
    }
   ],
   "source": [
    "hero1 = Hero('Саша')\n",
    "hero2 = Flying_Hero('Аркаша')"
   ]
  },
  {
   "cell_type": "code",
   "execution_count": 117,
   "metadata": {},
   "outputs": [
    {
     "name": "stdout",
     "output_type": "stream",
     "text": [
      "Игрок под ником \"Аркаша\" взлетел.\n"
     ]
    }
   ],
   "source": [
    "hero2.fly_up()"
   ]
  },
  {
   "cell_type": "code",
   "execution_count": 121,
   "metadata": {},
   "outputs": [
    {
     "name": "stdout",
     "output_type": "stream",
     "text": [
      "Ближайший к игроку \"Аркаша\" бонус находится в клетке (10, -2).\n"
     ]
    }
   ],
   "source": [
    "hero2.nearest_bonus()"
   ]
  },
  {
   "cell_type": "code",
   "execution_count": 122,
   "metadata": {},
   "outputs": [
    {
     "name": "stdout",
     "output_type": "stream",
     "text": [
      "Игрок \"Аркаша\" добежал до места назначения за 19 минут.\n",
      "В этой ячейке есть бонус!\n"
     ]
    }
   ],
   "source": [
    "hero2.move(10, -2)"
   ]
  },
  {
   "cell_type": "code",
   "execution_count": 123,
   "metadata": {},
   "outputs": [
    {
     "name": "stdout",
     "output_type": "stream",
     "text": [
      "Игрок \"Аркаша\" отравился.\n",
      "Его здоровье: 50 единиц.\n"
     ]
    }
   ],
   "source": [
    "hero2.pick_up()"
   ]
  },
  {
   "cell_type": "code",
   "execution_count": 124,
   "metadata": {},
   "outputs": [
    {
     "name": "stdout",
     "output_type": "stream",
     "text": [
      "Ближайший к игроку \"Саша\" бонус находится в клетке (14, 7).\n"
     ]
    }
   ],
   "source": [
    "hero1.nearest_bonus()"
   ]
  },
  {
   "cell_type": "code",
   "execution_count": 125,
   "metadata": {},
   "outputs": [
    {
     "name": "stdout",
     "output_type": "stream",
     "text": [
      "Игрок \"Саша\" добежал до места назначения за 78 минут.\n",
      "В этой ячейке есть бонус!\n"
     ]
    }
   ],
   "source": [
    "hero1.move(14, 7)"
   ]
  },
  {
   "cell_type": "code",
   "execution_count": 126,
   "metadata": {},
   "outputs": [
    {
     "name": "stdout",
     "output_type": "stream",
     "text": [
      "Скорость игрока \"Саша\" увеличилась в 2 раза.\n"
     ]
    }
   ],
   "source": [
    "hero1.pick_up()"
   ]
  },
  {
   "cell_type": "code",
   "execution_count": 127,
   "metadata": {},
   "outputs": [
    {
     "name": "stdout",
     "output_type": "stream",
     "text": [
      "Игрок \"Саша\" добежал до места назначения за 9 минут.\n"
     ]
    }
   ],
   "source": [
    "hero1.move(10,-3)"
   ]
  },
  {
   "cell_type": "code",
   "execution_count": 145,
   "metadata": {},
   "outputs": [
    {
     "name": "stdout",
     "output_type": "stream",
     "text": [
      "Игрок \"Саша\" убил игрока \"Аркаша\".\n",
      "Покойся с миром.\n"
     ]
    }
   ],
   "source": [
    "hero1.attack(hero2)"
   ]
  },
  {
   "cell_type": "code",
   "execution_count": null,
   "metadata": {},
   "outputs": [],
   "source": []
  }
 ],
 "metadata": {
  "kernelspec": {
   "display_name": "Python 3",
   "language": "python",
   "name": "python3"
  },
  "language_info": {
   "codemirror_mode": {
    "name": "ipython",
    "version": 3
   },
   "file_extension": ".py",
   "mimetype": "text/x-python",
   "name": "python",
   "nbconvert_exporter": "python",
   "pygments_lexer": "ipython3",
   "version": "3.7.0"
  }
 },
 "nbformat": 4,
 "nbformat_minor": 2
}
