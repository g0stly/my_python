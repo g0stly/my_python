{
 "cells": [
  {
   "cell_type": "code",
   "execution_count": 1,
   "metadata": {},
   "outputs": [],
   "source": [
    "import requests\n",
    "import pandas as pd\n",
    "from pprint import pprint as pp"
   ]
  },
  {
   "cell_type": "code",
   "execution_count": 136,
   "metadata": {},
   "outputs": [
    {
     "name": "stdout",
     "output_type": "stream",
     "text": [
      "906057\n"
     ]
    }
   ],
   "source": [
    "cords_old = '56.09, 18.9' \n",
    "cords = '59.9386, 30.3141'\n",
    "json_city = requests.get(f\"https://www.metaweather.com/api/location/search/?lattlong={cords_old}\").json()\n",
    "ident1 = json_city[0]['woeid']\n",
    "print(ident1)"
   ]
  },
  {
   "cell_type": "code",
   "execution_count": 139,
   "metadata": {},
   "outputs": [
    {
     "name": "stdout",
     "output_type": "stream",
     "text": [
      "565346\n"
     ]
    }
   ],
   "source": [
    "city = 'Helsinki'\n",
    "json_city = requests.get(f\"https://www.metaweather.com/api/location/search/?query={city}\").json()\n",
    "ident2 = json_city[0]['woeid']\n",
    "print(ident2)"
   ]
  },
  {
   "cell_type": "code",
   "execution_count": 140,
   "metadata": {},
   "outputs": [
    {
     "name": "stdout",
     "output_type": "stream",
     "text": [
      "Средняя наиболее вероятная минимальная температура 24 сентября:  6.609444444444445\n",
      "Средняя наиболее вероятная минимальная температура 25 сентября:  5.371666666666666\n",
      "Средняя наиболее вероятная минимальная температура 26 сентября:  4.526000000000001\n",
      "Средняя наиболее вероятная минимальная температура 27 сентября:  4.265\n"
     ]
    }
   ],
   "source": [
    "data = []\n",
    "for date in range(24, 28):\n",
    "    day_data = pd.DataFrame(\n",
    "        requests.get(f'https://www.metaweather.com/api/location/{ident2}/2019/9/{date}/').json())\n",
    "    prdct_max = max(day_data['predictability'])\n",
    "    relevant = day_data[day_data.predictability == prdct_max]['min_temp']\n",
    "    \n",
    "    s = 0\n",
    "    for source in relevant:\n",
    "        s += source\n",
    "    \n",
    "    data.append(s / len(relevant))\n",
    "    print(f'Средняя наиболее вероятная минимальная температура {date} сентября: ', s / len(relevant))"
   ]
  },
  {
   "cell_type": "code",
   "execution_count": 61,
   "metadata": {},
   "outputs": [
    {
     "data": {
      "text/html": [
       "<div>\n",
       "<style scoped>\n",
       "    .dataframe tbody tr th:only-of-type {\n",
       "        vertical-align: middle;\n",
       "    }\n",
       "\n",
       "    .dataframe tbody tr th {\n",
       "        vertical-align: top;\n",
       "    }\n",
       "\n",
       "    .dataframe thead th {\n",
       "        text-align: right;\n",
       "    }\n",
       "</style>\n",
       "<table border=\"1\" class=\"dataframe\">\n",
       "  <thead>\n",
       "    <tr style=\"text-align: right;\">\n",
       "      <th></th>\n",
       "      <th>date</th>\n",
       "      <th>temps</th>\n",
       "    </tr>\n",
       "  </thead>\n",
       "  <tbody>\n",
       "    <tr>\n",
       "      <th>0</th>\n",
       "      <td>24.09</td>\n",
       "      <td>24.13125</td>\n",
       "    </tr>\n",
       "    <tr>\n",
       "      <th>1</th>\n",
       "      <td>25.09</td>\n",
       "      <td>26.36000</td>\n",
       "    </tr>\n",
       "    <tr>\n",
       "      <th>2</th>\n",
       "      <td>26.09</td>\n",
       "      <td>27.49000</td>\n",
       "    </tr>\n",
       "    <tr>\n",
       "      <th>3</th>\n",
       "      <td>27.09</td>\n",
       "      <td>24.91600</td>\n",
       "    </tr>\n",
       "  </tbody>\n",
       "</table>\n",
       "</div>"
      ],
      "text/plain": [
       "    date     temps\n",
       "0  24.09  24.13125\n",
       "1  25.09  26.36000\n",
       "2  26.09  27.49000\n",
       "3  27.09  24.91600"
      ]
     },
     "execution_count": 61,
     "metadata": {},
     "output_type": "execute_result"
    }
   ],
   "source": [
    "dates = ['24.09','25.09','26.09','27.09']\n",
    "pd.DataFrame({'date':dates, 'temps':data})"
   ]
  },
  {
   "cell_type": "code",
   "execution_count": null,
   "metadata": {},
   "outputs": [],
   "source": []
  }
 ],
 "metadata": {
  "kernelspec": {
   "display_name": "Python 3",
   "language": "python",
   "name": "python3"
  },
  "language_info": {
   "codemirror_mode": {
    "name": "ipython",
    "version": 3
   },
   "file_extension": ".py",
   "mimetype": "text/x-python",
   "name": "python",
   "nbconvert_exporter": "python",
   "pygments_lexer": "ipython3",
   "version": "3.6.5"
  }
 },
 "nbformat": 4,
 "nbformat_minor": 2
}
