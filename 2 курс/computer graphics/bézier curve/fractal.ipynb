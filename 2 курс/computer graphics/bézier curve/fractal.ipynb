{
 "cells": [
  {
   "cell_type": "code",
   "execution_count": 1,
   "metadata": {},
   "outputs": [
    {
     "name": "stderr",
     "output_type": "stream",
     "text": [
      "C:\\ProgramData\\Anaconda3\\lib\\site-packages\\ipykernel\\parentpoller.py:116: UserWarning: Parent poll failed.  If the frontend dies,\n",
      "                the kernel may be left running.  Please let us know\n",
      "                about your system (bitness, Python, etc.) at\n",
      "                ipython-dev@scipy.org\n",
      "  ipython-dev@scipy.org\"\"\")\n"
     ]
    }
   ],
   "source": [
    "from PIL import Image, ImageDraw\n",
    "from math import sin, cos, pi"
   ]
  },
  {
   "cell_type": "code",
   "execution_count": 2,
   "metadata": {},
   "outputs": [],
   "source": [
    "def sign(x): # знак числа\n",
    "        if x > 0:\n",
    "                return 1\n",
    "        if x < 0:\n",
    "                return -1\n",
    "        return 0"
   ]
  },
  {
   "cell_type": "code",
   "execution_count": 3,
   "metadata": {},
   "outputs": [],
   "source": [
    "def line(x1, y1, x2, y2):  # рисуем линию из точки (x1,y1) в точку (x2,y2)\n",
    "        dX = abs(x2 - x1)\n",
    "        dY = abs(y2 - y1)\n",
    "        if dX >= dY: # если наклон по X больше Y, то X меняем на 1 и смотрим Y\n",
    "            if x1 > x2: # если точка 2 правее точки 1, меняем их местами\n",
    "                    x1, x2 = x2, x1\n",
    "                    y1, y2 = y2, y1\n",
    "            err = 0 # накапливаемая \"ошибка\"\n",
    "            dErr = dY\n",
    "            y = y1\n",
    "            dirY = sign(y2 - y1)\n",
    "            for x in range(x1, x2 + 1):\n",
    "                    draw.point((x,y),(0,0,0))\n",
    "                    err += dErr\n",
    "                    if err + err >= dX:\n",
    "                            y += dirY\n",
    "                            err -= dX\n",
    "        else: # если наклон по Y больше, то, наоборот, Y меняем на 1 и смотрим X\n",
    "            if y1 > y2: # если точка 2 ближе точки 1, меняем их местами\n",
    "                    x1, x2 = x2, x1\n",
    "                    y1, y2 = y2, y1\n",
    "            err = 0 # накапливаемая \"ошибка\"\n",
    "            dErr = dX\n",
    "            x = x1\n",
    "            dirX = sign(x2 - x1)\n",
    "            for y in range(y1, y2 + 1):\n",
    "                    draw.point((x,y),(0,0,0))\n",
    "                    err += dErr\n",
    "                    if err + err >= dY:\n",
    "                            x += dirX\n",
    "                            err -= dY"
   ]
  },
  {
   "cell_type": "code",
   "execution_count": 4,
   "metadata": {},
   "outputs": [],
   "source": [
    "class Painter:\n",
    "    def __init__(self, x = 0, y = 0, angle = 0):\n",
    "        self.x = x\n",
    "        self.y = y\n",
    "        self.angle = angle\n",
    "        \n",
    "    def forward(self, distance):\n",
    "        dest_x = self.x + round(cos(self.angle) * distance)\n",
    "        dest_y = self.y + round(sin(self.angle) * distance)\n",
    "        line(self.x, self.y, dest_x, dest_y)\n",
    "        self.x, self.y = dest_x, dest_y\n",
    "        \n",
    "    def right(self, angle):\n",
    "        self.angle += angle"
   ]
  },
  {
   "cell_type": "code",
   "execution_count": 5,
   "metadata": {},
   "outputs": [],
   "source": [
    "def fractal(size, depth, draw):\n",
    "    if depth == 1:\n",
    "        draw.forward(size)\n",
    "    else:\n",
    "        fractal(size // 3, depth - 1, draw)\n",
    "        draw.right(-pi/3)\n",
    "        fractal(size // 3, depth - 1, draw)\n",
    "        draw.right(2*pi/3)\n",
    "        fractal(size // 3, depth - 1, draw)\n",
    "        draw.right(-pi/3)\n",
    "        fractal(size // 3, depth - 1, draw)"
   ]
  },
  {
   "cell_type": "code",
   "execution_count": 6,
   "metadata": {},
   "outputs": [],
   "source": [
    "def fractal(size, depth, draw):\n",
    "    if depth == 1:\n",
    "        draw.forward(size)\n",
    "    else:\n",
    "        fractal(size // 3, depth - 1, draw)\n",
    "        draw.right(pi/2)\n",
    "        fractal(size // 3, depth - 1, draw)\n",
    "        draw.right(-pi/2)\n",
    "        fractal(size // 3, depth - 1, draw)"
   ]
  },
  {
   "cell_type": "code",
   "execution_count": 37,
   "metadata": {},
   "outputs": [],
   "source": [
    "image = Image.open(\"roof_half.jpg\")\n",
    "draw = ImageDraw.Draw(image)\n",
    "width  = image.size[0] \n",
    "height = image.size[1]\n",
    "pix = image.load()\n",
    "\n",
    "for x in range(width):\n",
    "    for y in range(height):\n",
    "        draw.point((x, y), (255, 255, 255))\n",
    "\n",
    "rafael = Painter(360, 270)\n",
    "\n",
    "#for i in range(4):\n",
    "#    rafael.forward(100)\n",
    "#    rafael.forward(-100)\n",
    "#    rafael.right(pi/2)\n",
    "\n",
    "fractal(1500, 6, rafael)\n",
    "rafael.right(2*pi/3)\n",
    "fractal(1500, 6, rafael)\n",
    "#rafael.right(2*pi/3)\n",
    "#fractal(1500, 6, rafael)\n",
    "\n",
    "image.show()\n",
    "del draw"
   ]
  },
  {
   "cell_type": "code",
   "execution_count": 36,
   "metadata": {},
   "outputs": [
    {
     "data": {
      "image/png": "[encoded data removed]",
      "text/plain": [
       "<PIL.JpegImagePlugin.JpegImageFile image mode=RGB size=720x540 at 0x28678A3F940>"
      ]
     },
     "execution_count": 36,
     "metadata": {},
     "output_type": "execute_result"
    }
   ],
   "source": [
    "image"
   ]
  },
  {
   "cell_type": "code",
   "execution_count": null,
   "metadata": {},
   "outputs": [],
   "source": []
  }
 ],
 "metadata": {
  "kernelspec": {
   "display_name": "Python 3",
   "language": "python",
   "name": "python3"
  },
  "language_info": {
   "codemirror_mode": {
    "name": "ipython",
    "version": 3
   },
   "file_extension": ".py",
   "mimetype": "text/x-python",
   "name": "python",
   "nbconvert_exporter": "python",
   "pygments_lexer": "ipython3",
   "version": "3.7.0"
  }
 },
 "nbformat": 4,
 "nbformat_minor": 2
}
