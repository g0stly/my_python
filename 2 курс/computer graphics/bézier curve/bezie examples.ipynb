{
 "cells": [
  {
   "cell_type": "code",
   "execution_count": 1,
   "metadata": {},
   "outputs": [],
   "source": [
    "from PIL import Image, ImageDraw"
   ]
  },
  {
   "cell_type": "code",
   "execution_count": 2,
   "metadata": {},
   "outputs": [],
   "source": [
    "def sign(x): # знак числа\n",
    "        if x > 0:\n",
    "                return 1\n",
    "        if x < 0:\n",
    "                return -1\n",
    "        return 0"
   ]
  },
  {
   "cell_type": "code",
   "execution_count": 3,
   "metadata": {},
   "outputs": [],
   "source": [
    "def line(x1, y1, x2, y2):  # рисуем линию из точки (x1,y1) в точку (x2,y2)\n",
    "        dX = abs(x2 - x1)\n",
    "        dY = abs(y2 - y1)\n",
    "        if dX >= dY: # если наклон по X больше Y, то X меняем на 1 и смотрим Y\n",
    "            if x1 > x2: # если точка 2 правее точки 1, меняем их местами\n",
    "                    x1, x2 = x2, x1\n",
    "                    y1, y2 = y2, y1\n",
    "            err = 0 # накапливаемая \"ошибка\"\n",
    "            dErr = dY\n",
    "            y = y1\n",
    "            dirY = sign(y2 - y1)\n",
    "            for x in range(x1, x2 + 1):\n",
    "                    draw.point((x,y),(0,0,0))\n",
    "                    err += dErr\n",
    "                    if err + err >= dX:\n",
    "                            y += dirY\n",
    "                            err -= dX\n",
    "        else: # если наклон по Y больше, то, наоборот, Y меняем на 1 и смотрим X\n",
    "            if y1 > y2: # если точка 2 ближе точки 1, меняем их местами\n",
    "                    x1, x2 = x2, x1\n",
    "                    y1, y2 = y2, y1\n",
    "            err = 0 # накапливаемая \"ошибка\"\n",
    "            dErr = dX\n",
    "            x = x1\n",
    "            dirX = sign(x2 - x1)\n",
    "            for y in range(y1, y2 + 1):\n",
    "                    draw.point((x,y),(0,0,0))\n",
    "                    err += dErr\n",
    "                    if err + err >= dY:\n",
    "                            x += dirX\n",
    "                            err -= dY"
   ]
  },
  {
   "cell_type": "code",
   "execution_count": 4,
   "metadata": {},
   "outputs": [],
   "source": [
    "def bezie(p0, p1, p2, p3):\n",
    "\toldBx = p0[0]\n",
    "\toldBy = p0[1]\n",
    "\tfor i in range(101):\n",
    "\t\tt = i / 100\n",
    "\t\tBx = int((1-t)*(1-t)*(1-t)*p0[0] + 3*t*(1-t)*(1-t)*p1[0] + 3*t*t*(1-t)*p2[0] + t*t*t*p3[0])\n",
    "\t\tBy = int((1-t)*(1-t)*(1-t)*p0[1] + 3*t*(1-t)*(1-t)*p1[1] + 3*t*t*(1-t)*p2[1] + t*t*t*p3[1])\n",
    "\t\tline(oldBx, oldBy, Bx, By)\n",
    "\t\toldBx = Bx\n",
    "\t\toldBy = By"
   ]
  },
  {
   "cell_type": "markdown",
   "metadata": {},
   "source": [
    "### пример\n",
    "+ картинка 720 на 540"
   ]
  },
  {
   "cell_type": "code",
   "execution_count": 6,
   "metadata": {},
   "outputs": [],
   "source": [
    "image = Image.open(\"roof_half.jpg\")\n",
    "draw = ImageDraw.Draw(image)\n",
    "width  = image.size[0] \n",
    "height = image.size[1]\n",
    "pix = image.load()\n",
    "\n",
    "for x in range(width):\n",
    "    for y in range(height):\n",
    "        draw.point((x, y), (255, 255, 255))\n",
    "\n",
    "line(width//4, height//4, width//4, height*3//4)\n",
    "line(width*3//4, height//4, width*3//4, height*3//4)\n",
    "bezie((width//4,height//4), (width//4,height*3//4), (width*3//4,height//4), (width*3//4,height*3//4))\n",
    "\n",
    "image.show()\n",
    "del draw"
   ]
  },
  {
   "cell_type": "markdown",
   "metadata": {},
   "source": [
    "### окружность"
   ]
  },
  {
   "cell_type": "code",
   "execution_count": 21,
   "metadata": {},
   "outputs": [],
   "source": [
    "image = Image.open(\"roof_half.jpg\")\n",
    "draw = ImageDraw.Draw(image)\n",
    "width  = image.size[0] \n",
    "height = image.size[1]\n",
    "pix = image.load()\n",
    "\n",
    "for x in range(width):\n",
    "    for y in range(height):\n",
    "        draw.point((x, y), (255, 255, 255))\n",
    "\n",
    "        \n",
    "bezie((width // 3, height // 2), (width // 3, height // 5), (width * 2 // 3, height //  5), (width * 2 // 3, height // 2))      \n",
    "bezie((width // 3, height // 2), (width // 3, height * 4 // 5), (width * 2 // 3, height * 4 //  5), (width * 2 // 3, height // 2))      \n",
    "\n",
    "\n",
    "\n",
    "image.show()\n",
    "del draw"
   ]
  },
  {
   "cell_type": "markdown",
   "metadata": {},
   "source": [
    "### песочные часы"
   ]
  },
  {
   "cell_type": "code",
   "execution_count": 24,
   "metadata": {},
   "outputs": [],
   "source": [
    "image = Image.open(\"roof_half.jpg\")\n",
    "draw = ImageDraw.Draw(image)\n",
    "width  = image.size[0] \n",
    "height = image.size[1]\n",
    "pix = image.load()\n",
    "\n",
    "for x in range(width):\n",
    "    for y in range(height):\n",
    "        draw.point((x, y), (255, 255, 255))\n",
    "\n",
    "        \n",
    "bezie((width // 2, height // 4), (width * 3 // 4, height // 4), (width // 4, height * 3 //  4), (width // 2, height * 3 // 4))      \n",
    "bezie((width // 2, height // 4), (width // 4, height // 4), (width * 3 // 4, height * 3 //  4), (width // 2, height * 3 // 4))      \n",
    "\n",
    "\n",
    "\n",
    "image.show()\n",
    "del draw"
   ]
  },
  {
   "cell_type": "markdown",
   "metadata": {},
   "source": [
    "### капля 1"
   ]
  },
  {
   "cell_type": "code",
   "execution_count": 40,
   "metadata": {},
   "outputs": [],
   "source": [
    "image = Image.open(\"roof_half.jpg\")\n",
    "draw = ImageDraw.Draw(image)\n",
    "width  = image.size[0] \n",
    "height = image.size[1]\n",
    "pix = image.load()\n",
    "\n",
    "for x in range(width):\n",
    "    for y in range(height):\n",
    "        draw.point((x, y), (255, 255, 255))\n",
    "        \n",
    "        \n",
    "bezie((width // 2, height // 4), (width // 2, height * 9 // 16), (width // 3, height * 3 // 4), (width // 2, height * 3 // 4))      \n",
    "bezie((width // 2, height // 4), (width // 2, height * 9 // 16), (width * 2 // 3, height * 3 // 4), (width // 2, height * 3 // 4))      \n",
    "\n",
    "\n",
    "\n",
    "image.show()\n",
    "del draw"
   ]
  },
  {
   "cell_type": "markdown",
   "metadata": {},
   "source": [
    "### капля 2"
   ]
  },
  {
   "cell_type": "code",
   "execution_count": 84,
   "metadata": {},
   "outputs": [],
   "source": [
    "image = Image.open(\"roof_half.jpg\")\n",
    "draw = ImageDraw.Draw(image)\n",
    "width  = image.size[0] \n",
    "height = image.size[1]\n",
    "pix = image.load()\n",
    "\n",
    "for x in range(width):\n",
    "    for y in range(height):\n",
    "        draw.point((x, y), (255, 255, 255))\n",
    "             \n",
    "\n",
    "bezie((width // 2, height // 7), (width // 2, height * 11 // 32), (width // 3, height * 10 // 32), (width // 3, height // 2))\n",
    "bezie((width // 2, height // 7), (width // 2, height * 11 // 32), (width * 2 // 3, height * 10 // 32), (width * 2 // 3, height // 2))\n",
    "bezie((width // 3, height // 2), (width // 3, height * 4 // 5), (width * 2 // 3, height * 4 //  5), (width * 2 // 3, height // 2))      \n",
    "\n",
    "\n",
    "image.show()\n",
    "del draw"
   ]
  },
  {
   "cell_type": "markdown",
   "metadata": {},
   "source": [
    "### апостроф "
   ]
  },
  {
   "cell_type": "code",
   "execution_count": 335,
   "metadata": {},
   "outputs": [],
   "source": [
    "image = Image.open(\"roof_half.jpg\")\n",
    "draw = ImageDraw.Draw(image)\n",
    "width  = image.size[0] \n",
    "height = image.size[1]\n",
    "pix = image.load()\n",
    "\n",
    "for x in range(width):\n",
    "    for y in range(height):\n",
    "        draw.point((x, y), (255, 255, 255))\n",
    "             \n",
    "\n",
    "bezie((width * 3 // 5, height // 6), (width // 4, height // 6), (width * 6 // 15, height * 5 // 8), (width * 3 // 5, height // 2))\n",
    "bezie((width * 3 // 5, height // 2), (width * 11 // 20, height * 23 // 32), (width * 21 // 40, height * 3 // 4), (width * 9 // 20, height * 4 // 5))\n",
    "bezie((width * 9 // 20, height * 4 // 5), (width * 13 // 20, height * 33 // 40), (width * 19 // 20, height // 6), (width * 3 // 5, height // 6))\n",
    "\n",
    "image.show()\n",
    "del draw"
   ]
  },
  {
   "cell_type": "code",
   "execution_count": null,
   "metadata": {},
   "outputs": [],
   "source": []
  }
 ],
 "metadata": {
  "kernelspec": {
   "display_name": "Python 3",
   "language": "python",
   "name": "python3"
  },
  "language_info": {
   "codemirror_mode": {
    "name": "ipython",
    "version": 3
   },
   "file_extension": ".py",
   "mimetype": "text/x-python",
   "name": "python",
   "nbconvert_exporter": "python",
   "pygments_lexer": "ipython3",
   "version": "3.7.0"
  }
 },
 "nbformat": 4,
 "nbformat_minor": 2
}
