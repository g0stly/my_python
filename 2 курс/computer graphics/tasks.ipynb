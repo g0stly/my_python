{
 "cells": [
  {
   "cell_type": "code",
   "execution_count": 2,
   "metadata": {},
   "outputs": [],
   "source": [
    "import random\n",
    "from PIL import ImageDraw, Image"
   ]
  },
  {
   "cell_type": "markdown",
   "metadata": {},
   "source": [
    "### Гистограмма"
   ]
  },
  {
   "cell_type": "code",
   "execution_count": 139,
   "metadata": {},
   "outputs": [],
   "source": [
    "image = Image.open('roof.jpg')\n",
    "draw = ImageDraw.Draw(image)\n",
    "width  = image.size[0]\n",
    "height = image.size[1]\n",
    "pix = image.load()\n",
    "\n",
    "histogram = {measure: 256 * [0] for measure in ['red', 'green', 'blue', 'brightness']}\n",
    "\n",
    "for x in range(width):\n",
    "    for y in range(height):\n",
    "        current = pix[x, y]\n",
    "        histogram['red'][current[0]] += 1\n",
    "        histogram['green'][current[1]] += 1\n",
    "        histogram['blue'][current[2]] += 1\n",
    "        histogram['brightness'][round(sum(current)/3)] += 1\n",
    "\n",
    "# нормирование y - координат        \n",
    "for measure in ['red', 'green', 'blue','brightness']:\n",
    "    k = max(histogram[measure]) // 540 + 1\n",
    "    histogram[measure] = [540 - elem // k for elem in histogram[measure]]\n",
    "\n",
    "    \n",
    "for x in range(256):\n",
    "    for y in range(histogram['green'][x], 540):\n",
    "        draw.point((2 * x, y), (0, 255, 0))\n",
    "        draw.point((2 * x + 1, y), (0, 255, 0))\n",
    "for x in range(256):\n",
    "    for y in range(histogram['red'][x], 540):\n",
    "        draw.point((2 * x + 720, y), (255, 0, 0))\n",
    "        draw.point((2 * x + 721, y), (255, 0, 0))\n",
    "for x in range(256):\n",
    "    for y in range(histogram['blue'][x], 540):\n",
    "        draw.point((2 * x + 720, y + 540), (0, 0, 255))\n",
    "        draw.point((2 * x + 721, y + 540), (0, 0, 255))\n",
    "for x in range(256):\n",
    "    for y in range(histogram['brightness'][x], 540):\n",
    "        draw.point((2 * x, y + 540), (128, 128, 128))\n",
    "        draw.point((2 * x + 1, y + 540), (128, 128, 128))\n",
    "\n",
    "image.show()\n",
    "del draw"
   ]
  },
  {
   "cell_type": "code",
   "execution_count": null,
   "metadata": {},
   "outputs": [],
   "source": []
  },
  {
   "cell_type": "code",
   "execution_count": null,
   "metadata": {},
   "outputs": [],
   "source": []
  },
  {
   "cell_type": "code",
   "execution_count": null,
   "metadata": {},
   "outputs": [],
   "source": []
  },
  {
   "cell_type": "code",
   "execution_count": null,
   "metadata": {},
   "outputs": [],
   "source": []
  }
 ],
 "metadata": {
  "kernelspec": {
   "display_name": "Python 3",
   "language": "python",
   "name": "python3"
  },
  "language_info": {
   "codemirror_mode": {
    "name": "ipython",
    "version": 3
   },
   "file_extension": ".py",
   "mimetype": "text/x-python",
   "name": "python",
   "nbconvert_exporter": "python",
   "pygments_lexer": "ipython3",
   "version": "3.7.4"
  }
 },
 "nbformat": 4,
 "nbformat_minor": 2
}
