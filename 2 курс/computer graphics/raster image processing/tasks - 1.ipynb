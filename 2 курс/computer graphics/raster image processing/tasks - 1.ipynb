{
 "cells": [
  {
   "cell_type": "code",
   "execution_count": 1,
   "metadata": {},
   "outputs": [],
   "source": [
    "from PIL import ImageDraw, Image"
   ]
  },
  {
   "cell_type": "markdown",
   "metadata": {},
   "source": [
    "### В два раза темнее"
   ]
  },
  {
   "cell_type": "code",
   "execution_count": 124,
   "metadata": {},
   "outputs": [],
   "source": [
    "image = Image.open(\"roof.jpg\")\n",
    "draw = ImageDraw.Draw(image)\n",
    "width  = image.size[0]\n",
    "height = image.size[1]\n",
    "pix = image.load()\n",
    "\n",
    "for x in range(width):\n",
    "    for y in range(height):\n",
    "        r = pix[x, y][0]\n",
    "        g = pix[x, y][1]\n",
    "        b = pix[x, y][2]\n",
    "        draw.point((x, y), (r // 2, g // 2, b // 2))\n",
    "\n",
    "image.show()\n",
    "del draw"
   ]
  },
  {
   "cell_type": "markdown",
   "metadata": {},
   "source": [
    "### В три оттенка цвета"
   ]
  },
  {
   "cell_type": "code",
   "execution_count": 12,
   "metadata": {},
   "outputs": [],
   "source": [
    "image = Image.open(\"roof.jpg\")\n",
    "draw = ImageDraw.Draw(image)\n",
    "width  = image.size[0]\n",
    "height = image.size[1]\n",
    "pix = image.load()\n",
    "\n",
    "for x in range(width):\n",
    "    for y in range(height):\n",
    "        r = pix[x, y][0]\n",
    "        g = pix[x, y][1]\n",
    "        b = pix[x, y][2]\n",
    "        av = round((r + g * 6 + b * 3) / 10)\n",
    "\n",
    "        if x <= 480:\n",
    "            draw.point((x, y), (av, av, 0))\n",
    "        \n",
    "        elif 480 < x <= 960:\n",
    "            draw.point((x, y), (av, 0, 0))\n",
    "        \n",
    "        else:\n",
    "            draw.point((x, y), (0, av, 0))\n",
    "\n",
    "image.show()\n",
    "del draw"
   ]
  },
  {
   "cell_type": "markdown",
   "metadata": {},
   "source": [
    "### Гистограмма по зеленой компоненте"
   ]
  },
  {
   "cell_type": "code",
   "execution_count": 13,
   "metadata": {},
   "outputs": [],
   "source": [
    "image = Image.open('roof.jpg')\n",
    "draw = ImageDraw.Draw(image)\n",
    "width  = image.size[0]\n",
    "height = image.size[1]\n",
    "pix = image.load()\n",
    "\n",
    "histogram = 256 * [0]\n",
    "\n",
    "for x in range(width):\n",
    "    for y in range(height):\n",
    "        histogram[pix[x, y][1]] += 1\n",
    "        \n",
    "# нормирование y - координат        \n",
    "k = max(histogram) // 540 + 1\n",
    "histogram = [540 - elem // k for elem in histogram]\n",
    "\n",
    "    \n",
    "for x in range(256):\n",
    "    for y in range(histogram[x], 540):\n",
    "        draw.point((2 * x, y), (0, 255, 0))\n",
    "        draw.point((2 * x + 1, y), (0, 255, 0))\n",
    "\n",
    "image.show()\n",
    "del draw"
   ]
  },
  {
   "cell_type": "markdown",
   "metadata": {},
   "source": [
    "### Гистограмма по трем цветам и по яркости"
   ]
  },
  {
   "cell_type": "code",
   "execution_count": 14,
   "metadata": {},
   "outputs": [],
   "source": [
    "image = Image.open('roof.jpg')\n",
    "draw = ImageDraw.Draw(image)\n",
    "width  = image.size[0]\n",
    "height = image.size[1]\n",
    "pix = image.load()\n",
    "\n",
    "histogram = {measure: 256 * [0] for measure in ['red', 'green', 'blue', 'brightness']}\n",
    "\n",
    "for x in range(width):\n",
    "    for y in range(height):\n",
    "        current = pix[x, y]\n",
    "        histogram['red'][current[0]] += 1\n",
    "        histogram['green'][current[1]] += 1\n",
    "        histogram['blue'][current[2]] += 1\n",
    "        histogram['brightness'][round(sum(current)/3)] += 1\n",
    "\n",
    "# нормирование y - координат        \n",
    "for measure in ['red', 'green', 'blue','brightness']:\n",
    "    k = max(histogram[measure]) // 540 + 1\n",
    "    histogram[measure] = [540 - elem // k for elem in histogram[measure]]\n",
    "\n",
    "    \n",
    "for x in range(256):\n",
    "    for y in range(histogram['green'][x], 540):\n",
    "        draw.point((2 * x, y), (0, 255, 0))\n",
    "        draw.point((2 * x + 1, y), (0, 255, 0))\n",
    "for x in range(256):\n",
    "    for y in range(histogram['red'][x], 540):\n",
    "        draw.point((2 * x + 720, y), (255, 0, 0))\n",
    "        draw.point((2 * x + 721, y), (255, 0, 0))\n",
    "for x in range(256):\n",
    "    for y in range(histogram['blue'][x], 540):\n",
    "        draw.point((2 * x + 720, y + 540), (0, 0, 255))\n",
    "        draw.point((2 * x + 721, y + 540), (0, 0, 255))\n",
    "for x in range(256):\n",
    "    for y in range(histogram['brightness'][x], 540):\n",
    "        draw.point((2 * x, y + 540), (128, 128, 128))\n",
    "        draw.point((2 * x + 1, y + 540), (128, 128, 128))\n",
    "\n",
    "image.show()\n",
    "del draw"
   ]
  },
  {
   "cell_type": "markdown",
   "metadata": {},
   "source": [
    "### Темнеет справа налево"
   ]
  },
  {
   "cell_type": "code",
   "execution_count": 22,
   "metadata": {},
   "outputs": [],
   "source": [
    "image = Image.open('roof.jpg')\n",
    "draw = ImageDraw.Draw(image)\n",
    "width  = image.size[0]\n",
    "height = image.size[1]\n",
    "pix = image.load()\n",
    "\n",
    "for x in range(width):\n",
    "    for y in range(height):\n",
    "        r = pix[x, y][0]\n",
    "        g = pix[x, y][1]\n",
    "        b = pix[x, y][2]\n",
    "        q = x / width\n",
    "        draw.point((x, y), (int(r * q), int(g * q), int(b * q)))\n",
    "\n",
    "image.show()\n",
    "del draw"
   ]
  },
  {
   "cell_type": "markdown",
   "metadata": {},
   "source": [
    "### Светлеет слева направо"
   ]
  },
  {
   "cell_type": "code",
   "execution_count": 43,
   "metadata": {},
   "outputs": [],
   "source": [
    "image = Image.open('roof.jpg')\n",
    "draw = ImageDraw.Draw(image)\n",
    "width  = image.size[0]\n",
    "height = image.size[1]\n",
    "pix = image.load()\n",
    "\n",
    "for x in range(width):\n",
    "    for y in range(height):\n",
    "        r = pix[x, y][0]\n",
    "        g = pix[x, y][1]\n",
    "        b = pix[x, y][2]\n",
    "        q = (x + 300) / 300\n",
    "        draw.point((x, y), (int(r * q), int(g * q), int(b * q)))\n",
    "\n",
    "image.show()\n",
    "del draw"
   ]
  },
  {
   "cell_type": "markdown",
   "metadata": {},
   "source": [
    "### От темного к светлому"
   ]
  },
  {
   "cell_type": "code",
   "execution_count": 50,
   "metadata": {},
   "outputs": [],
   "source": [
    "image = Image.open('roof.jpg')\n",
    "draw = ImageDraw.Draw(image)\n",
    "width  = image.size[0]\n",
    "height = image.size[1]\n",
    "pix = image.load()\n",
    "\n",
    "for x in range(width):\n",
    "    for y in range(height):\n",
    "        r = pix[x, y][0]\n",
    "        g = pix[x, y][1]\n",
    "        b = pix[x, y][2]\n",
    "        q = x / (1600 - x)\n",
    "        draw.point((x, y), (int(r * q), int(g * q), int(b * q)))\n",
    "\n",
    "image.show()\n",
    "del draw"
   ]
  },
  {
   "cell_type": "markdown",
   "metadata": {},
   "source": [
    "### Янтарный"
   ]
  },
  {
   "cell_type": "code",
   "execution_count": 51,
   "metadata": {},
   "outputs": [],
   "source": [
    "image = Image.open('roof.jpg')\n",
    "draw = ImageDraw.Draw(image)\n",
    "width  = image.size[0]\n",
    "height = image.size[1]\n",
    "pix = image.load()\n",
    "\n",
    "for x in range(width):\n",
    "    for y in range(height):\n",
    "        r = pix[x, y][0]\n",
    "        g = pix[x, y][1]\n",
    "        b = pix[x, y][2]\n",
    "        draw.point((x, y), (r + 80, g + 40, b))\n",
    "\n",
    "image.show()\n",
    "del draw"
   ]
  },
  {
   "cell_type": "markdown",
   "metadata": {},
   "source": [
    "### Покрасить половину в желтый"
   ]
  },
  {
   "cell_type": "code",
   "execution_count": 53,
   "metadata": {},
   "outputs": [],
   "source": [
    "image = Image.open('roof.jpg')\n",
    "draw = ImageDraw.Draw(image)\n",
    "width  = image.size[0]\n",
    "height = image.size[1]\n",
    "pix = image.load()\n",
    "\n",
    "for x in range(width):\n",
    "    for y in range(height):\n",
    "        r = pix[x, y][0]\n",
    "        g = pix[x, y][1]\n",
    "        b = pix[x, y][2]\n",
    "        \n",
    "        if y <= 0.75 * x:\n",
    "            draw.point((x, y), (255, 255, 0))\n",
    "        \n",
    "        else:\n",
    "            draw.point((x, y), (r, g, b))\n",
    "                \n",
    "                \n",
    "image.show()\n",
    "del draw"
   ]
  },
  {
   "cell_type": "markdown",
   "metadata": {},
   "source": [
    "### Покрасить бабочкой в фиолетовый "
   ]
  },
  {
   "cell_type": "code",
   "execution_count": 55,
   "metadata": {},
   "outputs": [],
   "source": [
    "image = Image.open('roof.jpg')\n",
    "draw = ImageDraw.Draw(image)\n",
    "width  = image.size[0]\n",
    "height = image.size[1]\n",
    "pix = image.load()\n",
    "\n",
    "for x in range(width):\n",
    "    for y in range(height):\n",
    "        r = pix[x, y][0]\n",
    "        g = pix[x, y][1]\n",
    "        b = pix[x, y][2]\n",
    "        \n",
    "        if (y <= 0.75 * x and y >= -0.75 * x + 1080) or (y >= 0.75 * x and y <= -0.75 * x + 1080):\n",
    "            draw.point((x, y), (255, 0, 255))\n",
    "        \n",
    "        else:\n",
    "            draw.point((x, y), (r, g, b))\n",
    "                \n",
    "image.show()\n",
    "del draw"
   ]
  },
  {
   "cell_type": "markdown",
   "metadata": {},
   "source": [
    "### Салатовые полоски и оранжевый круг"
   ]
  },
  {
   "cell_type": "code",
   "execution_count": 70,
   "metadata": {},
   "outputs": [],
   "source": [
    "image = Image.open('roof.jpg')\n",
    "draw = ImageDraw.Draw(image)\n",
    "width  = image.size[0]\n",
    "height = image.size[1]\n",
    "pix = image.load()\n",
    "\n",
    "for x in range(width):\n",
    "    for y in range(height):\n",
    "        r = pix[x, y][0]\n",
    "        g = pix[x, y][1]\n",
    "        b = pix[x, y][2]\n",
    "\n",
    "        if (x - 720) ** 2 + (y - 540) ** 2 <= 72900:\n",
    "            draw.point((x, y), (255, 128, 0))\n",
    "        \n",
    "        elif x // 36 % 2 == 0 and 270 <= y <= 810:\n",
    "            draw.point((x, y), (0, 255, 0))\n",
    "        \n",
    "        else:\n",
    "            draw.point((x, y), (r, g, b))\n",
    "                \n",
    "image.show()\n",
    "del draw"
   ]
  },
  {
   "cell_type": "markdown",
   "metadata": {},
   "source": [
    "### Персональное задание \n",
    "+ нарисовать прозрачный полукруг"
   ]
  },
  {
   "cell_type": "code",
   "execution_count": 71,
   "metadata": {},
   "outputs": [],
   "source": [
    "image = Image.open(\"roof.jpg\") \n",
    "draw = ImageDraw.Draw(image) \n",
    "width  = image.size[0] \n",
    "height = image.size[1] \n",
    "pix = image.load() \n",
    "\n",
    "for x in range(width):\n",
    "        for y in range(height):\n",
    "            rgb1 = pix[x, y]\n",
    "            if x >= 360 and (x - 360) ** 2 + (y - 540) ** 2 < 540 ** 2:\n",
    "                rgb2 = pix[x + 475, y]\n",
    "                draw.point((x, y), tuple([int(rgb1[i] * 0.6 + rgb2[i] * 0.4) for i in range(3)]))\n",
    "            else:\n",
    "                draw.point((x, y), rgb1)\n",
    "image.show()\n",
    "del draw"
   ]
  }
 ],
 "metadata": {
  "kernelspec": {
   "display_name": "Python 3",
   "language": "python",
   "name": "python3"
  },
  "language_info": {
   "codemirror_mode": {
    "name": "ipython",
    "version": 3
   },
   "file_extension": ".py",
   "mimetype": "text/x-python",
   "name": "python",
   "nbconvert_exporter": "python",
   "pygments_lexer": "ipython3",
   "version": "3.7.0"
  }
 },
 "nbformat": 4,
 "nbformat_minor": 2
}
