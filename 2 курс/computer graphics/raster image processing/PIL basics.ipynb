{
 "cells": [
  {
   "cell_type": "markdown",
   "metadata": {},
   "source": [
    "### blue lines"
   ]
  },
  {
   "cell_type": "code",
   "execution_count": 59,
   "metadata": {},
   "outputs": [],
   "source": [
    "import random\n",
    "from PIL import Image, ImageDraw\n",
    "\n",
    "image = Image.open(\"LAB1/roof.jpg\") \n",
    "draw = ImageDraw.Draw(image) \n",
    "width  = image.size[0] \n",
    "height = image.size[1] \n",
    "pix = image.load() \n",
    "\n",
    "for x in range(width):\n",
    "        for y in range(height):\n",
    "            if y // 80 % 2 == 1:\n",
    "                draw.point((x, y), (1, 0, 128))\n",
    "            else:\n",
    "                draw.point((x, y), pix[x, y])\n",
    "image.show()\n",
    "del draw"
   ]
  },
  {
   "cell_type": "markdown",
   "metadata": {},
   "source": [
    "### semicircle + transparency"
   ]
  },
  {
   "cell_type": "code",
   "execution_count": 63,
   "metadata": {},
   "outputs": [],
   "source": [
    "import random\n",
    "from PIL import Image, ImageDraw\n",
    "\n",
    "image = Image.open(\"LAB1/roof.jpg\") \n",
    "draw = ImageDraw.Draw(image) \n",
    "width  = image.size[0] \n",
    "height = image.size[1] \n",
    "pix = image.load() \n",
    "\n",
    "for x in range(width):\n",
    "        for y in range(height):\n",
    "            rgb1 = pix[x, y]\n",
    "            if x >= 360 and (x - 360) ** 2 + (y - 540) ** 2 < 540 ** 2:\n",
    "                rgb2 = pix[x + 475, y]\n",
    "                draw.point((x, y), tuple([int(rgb1[i] * 0.6 + rgb2[i] * 0.4) for i in range(3)]))\n",
    "            else:\n",
    "                draw.point((x, y), rgb1)\n",
    "image.show()\n",
    "del draw"
   ]
  },
  {
   "cell_type": "markdown",
   "metadata": {},
   "source": [
    "### circle "
   ]
  },
  {
   "cell_type": "code",
   "execution_count": 71,
   "metadata": {},
   "outputs": [],
   "source": [
    "import random\n",
    "from PIL import Image, ImageDraw\n",
    "\n",
    "image = Image.open(\"LAB1/roof.jpg\") \n",
    "draw = ImageDraw.Draw(image) \n",
    "width  = image.size[0] \n",
    "height = image.size[1] \n",
    "pix = image.load() \n",
    "\n",
    "for x in range(width):\n",
    "        for y in range(height):\n",
    "            rgb1 = pix[x, y]\n",
    "            if (x - 360) ** 2 + (y - 810) ** 2 < 250 ** 2:\n",
    "                rgb2 = pix[x + 650, y - 500]\n",
    "                draw.point((x, y), rgb2)\n",
    "            else:\n",
    "                draw.point((x, y), rgb1)\n",
    "image.show()\n",
    "del draw"
   ]
  },
  {
   "cell_type": "markdown",
   "metadata": {},
   "source": [
    "### mirror image"
   ]
  },
  {
   "cell_type": "code",
   "execution_count": 77,
   "metadata": {},
   "outputs": [],
   "source": [
    "import random\n",
    "from PIL import Image, ImageDraw\n",
    "\n",
    "image = Image.open(\"LAB1/roof.jpg\") \n",
    "draw = ImageDraw.Draw(image) \n",
    "width  = image.size[0] \n",
    "height = image.size[1] \n",
    "pix = image.load() \n",
    "\n",
    "for x in range(width):\n",
    "        for y in range(height):\n",
    "            if x > 720:\n",
    "                draw.point((x, y), pix[width - x, y])\n",
    "            else:\n",
    "                draw.point((x, y), pix[x, y])\n",
    "image.show()\n",
    "del draw"
   ]
  },
  {
   "cell_type": "code",
   "execution_count": null,
   "metadata": {},
   "outputs": [],
   "source": []
  }
 ],
 "metadata": {
  "kernelspec": {
   "display_name": "Python 3",
   "language": "python",
   "name": "python3"
  },
  "language_info": {
   "codemirror_mode": {
    "name": "ipython",
    "version": 3
   },
   "file_extension": ".py",
   "mimetype": "text/x-python",
   "name": "python",
   "nbconvert_exporter": "python",
   "pygments_lexer": "ipython3",
   "version": "3.7.0"
  }
 },
 "nbformat": 4,
 "nbformat_minor": 2
}
