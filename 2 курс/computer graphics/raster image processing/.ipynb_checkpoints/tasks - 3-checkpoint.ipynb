{
 "cells": [
  {
   "cell_type": "code",
   "execution_count": 1,
   "metadata": {},
   "outputs": [],
   "source": [
    "from PIL import ImageDraw, Image"
   ]
  },
  {
   "cell_type": "markdown",
   "metadata": {},
   "source": [
    "### Изменение прозрачности"
   ]
  },
  {
   "cell_type": "code",
   "execution_count": 27,
   "metadata": {},
   "outputs": [],
   "source": [
    "image_l = Image.open(\"park.jpg\")\n",
    "image_r = Image.open(\"winter.jpg\")\n",
    "\n",
    "draw = ImageDraw.Draw(image_l) \n",
    "\n",
    "width  = image_l.size[0] \n",
    "height = image_l.size[1] \n",
    "pix_l = image_l.load() \n",
    "pix_r = image_r.load()\n",
    "\n",
    "for x in range(width):\n",
    "    for y in range(height):\n",
    "        rgb_l = pix_l[x, y]\n",
    "        rgb_r = pix_r[x, y]\n",
    "        if x < 240:\n",
    "            draw.point((x, y), rgb_l)\n",
    "        elif 240 <= x < 480:\n",
    "            q = (x - 240) / 240\n",
    "            draw.point((x, y), tuple([round(rgb_r[i] * q + rgb_l[i] * (1 - q)) for i in range(3)]))\n",
    "        else:\n",
    "            draw.point((x, y), rgb_r)\n",
    "        \n",
    "image_l.show()\n",
    "del draw"
   ]
  },
  {
   "cell_type": "markdown",
   "metadata": {},
   "source": [
    "### Круглая виньетка по центру"
   ]
  },
  {
   "cell_type": "code",
   "execution_count": 52,
   "metadata": {},
   "outputs": [],
   "source": [
    "from math import sqrt\n",
    "\n",
    "image = Image.open(\"winter.jpg\")\n",
    "draw = ImageDraw.Draw(image) \n",
    "width  = image.size[0] \n",
    "height = image.size[1] \n",
    "pix = image.load()\n",
    "\n",
    "for x in range(width):\n",
    "    for y in range(height):\n",
    "        dist = sqrt((x - 360) ** 2 + (y - 270) ** 2)\n",
    "        \n",
    "        if dist >= 270:\n",
    "            draw.point((x, y), (255, 255, 255))\n",
    "        \n",
    "        elif dist >= 180:\n",
    "            rgb = pix[x, y]\n",
    "            rgb_wh = (255, 255, 255)\n",
    "            q = (270 - dist) / 90\n",
    "            draw.point((x, y), tuple([round(rgb[i] * q + rgb_wh[i] * (1 - q)) for i in range(3)]))\n",
    "        \n",
    "        else:\n",
    "            draw.point((x, y), pix[x, y])    \n",
    "        \n",
    "image.show()\n",
    "del draw"
   ]
  },
  {
   "cell_type": "markdown",
   "metadata": {},
   "source": [
    "### Овальная виньетка"
   ]
  },
  {
   "cell_type": "code",
   "execution_count": 111,
   "metadata": {},
   "outputs": [],
   "source": [
    "image = Image.open(\"park.jpg\")\n",
    "draw = ImageDraw.Draw(image) \n",
    "width  = image.size[0] \n",
    "height = image.size[1] \n",
    "pix = image.load()\n",
    "\n",
    "for x in range(width):\n",
    "    for y in range(height):\n",
    "        eq1 = (x - 360) ** 2 / 360 ** 2 + (y - 270) ** 2 / 270 ** 2\n",
    "        eq2 = (x - 360) ** 2 / 240 ** 2 + (y - 270) ** 2 / 180 ** 2\n",
    "        \n",
    "        # внешний эллипс\n",
    "        if eq1 > 1:\n",
    "            draw.point((x, y), (255, 255, 255))\n",
    "        # между эллипсами\n",
    "        elif eq2 > 1:\n",
    "            rgb = pix[x, y]\n",
    "            rgb_wh = (255, 255, 255)\n",
    "            q = (2.25 - eq2) / 1.25\n",
    "            draw.point((x, y), tuple([round(rgb[i] * q + rgb_wh[i] * (1 - q)) for i in range(3)]))\n",
    "        # внутренний эллипс\n",
    "        else:\n",
    "            draw.point((x, y), pix[x, y])\n",
    "        \n",
    "image.show()\n",
    "del draw"
   ]
  }
 ],
 "metadata": {
  "kernelspec": {
   "display_name": "Python 3",
   "language": "python",
   "name": "python3"
  },
  "language_info": {
   "codemirror_mode": {
    "name": "ipython",
    "version": 3
   },
   "file_extension": ".py",
   "mimetype": "text/x-python",
   "name": "python",
   "nbconvert_exporter": "python",
   "pygments_lexer": "ipython3",
   "version": "3.7.0"
  }
 },
 "nbformat": 4,
 "nbformat_minor": 2
}
