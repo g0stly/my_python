{
 "cells": [
  {
   "cell_type": "code",
   "execution_count": 2,
   "metadata": {},
   "outputs": [],
   "source": [
    "from PIL import ImageDraw, Image"
   ]
  },
  {
   "cell_type": "markdown",
   "metadata": {},
   "source": [
    "### Рельеф"
   ]
  },
  {
   "cell_type": "code",
   "execution_count": 3,
   "metadata": {},
   "outputs": [],
   "source": [
    "image = Image.open(\"roof.jpg\") \n",
    "draw = ImageDraw.Draw(image) \n",
    "width  = image.size[0] \n",
    "height = image.size[1] \n",
    "pix = image.load() \n",
    "\n",
    "for x in range(width - 1):\n",
    "    for y in range(height):\n",
    "        draw.point((x, y), tuple([128 + 2 * (i - j) for i, j in zip(pix[x, y], pix[x + 1, y])]))\n",
    "        \n",
    "image.show()\n",
    "del draw"
   ]
  },
  {
   "cell_type": "markdown",
   "metadata": {},
   "source": [
    "### Восьмицветное изображение"
   ]
  },
  {
   "cell_type": "code",
   "execution_count": 11,
   "metadata": {},
   "outputs": [],
   "source": [
    "image = Image.open(\"roof.jpg\") \n",
    "draw = ImageDraw.Draw(image) \n",
    "width  = image.size[0] \n",
    "height = image.size[1] \n",
    "pix = image.load() \n",
    "\n",
    "def transform(x):\n",
    "    if x >= 128:\n",
    "        return 255\n",
    "    else:\n",
    "        return 0\n",
    "\n",
    "for x in range(width - 1):\n",
    "    for y in range(height):\n",
    "        r = transform(pix[x, y][0])\n",
    "        g = transform(pix[x, y][1])\n",
    "        b = transform(pix[x, y][2])\n",
    "        draw.point((x, y), (r, g, b))\n",
    "        \n",
    "image.show()\n",
    "del draw"
   ]
  },
  {
   "cell_type": "markdown",
   "metadata": {},
   "source": [
    "### Четырехцветный оттенок серого"
   ]
  },
  {
   "cell_type": "code",
   "execution_count": 19,
   "metadata": {},
   "outputs": [],
   "source": [
    "image = Image.open(\"roof.jpg\") \n",
    "draw = ImageDraw.Draw(image) \n",
    "width  = image.size[0] \n",
    "height = image.size[1] \n",
    "pix = image.load() \n",
    "\n",
    "def transform(x):\n",
    "    if x < 64:\n",
    "        return 0\n",
    "    elif 64 <= x < 128:\n",
    "        return 96\n",
    "    elif 128 <= x < 192:\n",
    "        return 160\n",
    "    else:\n",
    "        return 255\n",
    "\n",
    "for x in range(width - 1):\n",
    "    for y in range(height):\n",
    "        r = pix[x, y][0]\n",
    "        g = pix[x, y][1]\n",
    "        b = pix[x, y][2]\n",
    "        av = transform(round((r + g * 6 + b * 3) / 10))\n",
    "        draw.point((x, y), (av, av, av))\n",
    "        \n",
    "image.show()\n",
    "del draw"
   ]
  },
  {
   "cell_type": "markdown",
   "metadata": {},
   "source": [
    "### Autolevels по каждой компоненте"
   ]
  },
  {
   "cell_type": "code",
   "execution_count": 84,
   "metadata": {},
   "outputs": [],
   "source": [
    "image = Image.open(\"Lego.jpg\") \n",
    "draw = ImageDraw.Draw(image) \n",
    "width  = image.size[0] \n",
    "height = image.size[1] \n",
    "pix = image.load() \n",
    "\n",
    "def transform(x, lims):\n",
    "    return round((x - lims[0]) * 255 / (lims[1] - lims[0]))\n",
    "\n",
    "def get_limits(hist):\n",
    "    for i in range(1, 256):\n",
    "        if hist[i] > 200:\n",
    "            a = i\n",
    "            break\n",
    "    \n",
    "    for i in range(255, 0, -1):\n",
    "        if hist[i] > 200:\n",
    "            b = i\n",
    "            break\n",
    "    \n",
    "    return (a, b)\n",
    "\n",
    "\n",
    "histogram = {measure: 256 * [0] for measure in ['red', 'green', 'blue']}\n",
    "for x in range(width):\n",
    "    for y in range(height):\n",
    "        current = pix[x, y]\n",
    "        histogram['red'][current[0]] += 1\n",
    "        histogram['green'][current[1]] += 1\n",
    "        histogram['blue'][current[2]] += 1         \n",
    "\n",
    "\n",
    "r_limits = get_limits(histogram['red'])\n",
    "g_limits = get_limits(histogram['green'])\n",
    "b_limits = get_limits(histogram['blue'])\n",
    "\n",
    "\n",
    "for x in range(width):\n",
    "    for y in range(height):\n",
    "        r = pix[x, y][0]\n",
    "        g = pix[x, y][1]\n",
    "        b = pix[x, y][2]\n",
    "        draw.point((x, y), (transform(r, r_limits), transform(g, g_limits), transform(b, b_limits)))\n",
    "        \n",
    "        \n",
    "image.show()\n",
    "del draw"
   ]
  }
 ],
 "metadata": {
  "kernelspec": {
   "display_name": "Python 3",
   "language": "python",
   "name": "python3"
  },
  "language_info": {
   "codemirror_mode": {
    "name": "ipython",
    "version": 3
   },
   "file_extension": ".py",
   "mimetype": "text/x-python",
   "name": "python",
   "nbconvert_exporter": "python",
   "pygments_lexer": "ipython3",
   "version": "3.7.0"
  }
 },
 "nbformat": 4,
 "nbformat_minor": 2
}
